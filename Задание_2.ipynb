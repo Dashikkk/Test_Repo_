{
  "nbformat": 4,
  "nbformat_minor": 0,
  "metadata": {
    "colab": {
      "provenance": [],
      "include_colab_link": true
    },
    "kernelspec": {
      "name": "python3",
      "display_name": "Python 3"
    },
    "language_info": {
      "name": "python"
    }
  },
  "cells": [
    {
      "cell_type": "markdown",
      "metadata": {
        "id": "view-in-github",
        "colab_type": "text"
      },
      "source": [
        "<a href=\"https://colab.research.google.com/github/Dashikkk/Test_Repo_/blob/main/%D0%97%D0%B0%D0%B4%D0%B0%D0%BD%D0%B8%D0%B5_2.ipynb\" target=\"_parent\"><img src=\"https://colab.research.google.com/assets/colab-badge.svg\" alt=\"Open In Colab\"/></a>"
      ]
    },
    {
      "cell_type": "markdown",
      "source": [
        "#Пример использования Markdown\n",
        "##Состав бригады:\n",
        "1. Денисова\n",
        "1. Шихалева\n",
        "1. Мирошкина\n",
        "\n",
        "###Рисунок\n",
        "![Текст с описанием картинки](https://avatars.mds.yandex.net/get-images-cbir/9624473/WJBseMGPUYosqYyEayErQg8345/ocr)\n",
        "\n",
        "###Таблица\n",
        "\n",
        "Номер | Буква | Цвет \n",
        "--- | --- | ---\n",
        "1      | А | Красный\n",
        "2       | Б | Синий\n",
        "\n",
        "###Ссылка - [сайт нгту](https://www.nstu.ru/)"
      ],
      "metadata": {
        "id": "t6Rv9fEEjEdb"
      }
    }
  ]
}